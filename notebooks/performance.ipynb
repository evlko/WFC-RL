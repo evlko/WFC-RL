{
 "cells": [
  {
   "cell_type": "code",
   "execution_count": 1,
   "metadata": {},
   "outputs": [],
   "source": [
    "from setup_env import setup_environment\n",
    "\n",
    "setup_environment()"
   ]
  },
  {
   "cell_type": "code",
   "execution_count": 2,
   "metadata": {},
   "outputs": [],
   "source": [
    "from tqdm import tqdm\n",
    "\n",
    "import numpy as np\n",
    "import pandas as pd\n",
    "import seaborn as sns\n",
    "import matplotlib.pyplot as plt\n",
    "\n",
    "from project.wfc.factory import Factory\n",
    "from project.wfc.grid import Grid, Rect\n",
    "from project.wfc.judge import RandomJudge, Judge\n",
    "from project.config import DATA_SOURCE\n",
    "from project.wfc.wfc import WFC\n",
    "from project.machine_learning.model_mc import ModelMC"
   ]
  },
  {
   "cell_type": "code",
   "execution_count": 3,
   "metadata": {},
   "outputs": [],
   "source": [
    "sns.set_style(\"whitegrid\")\n",
    "sns.set_context(\"paper\")"
   ]
  },
  {
   "cell_type": "code",
   "execution_count": 4,
   "metadata": {},
   "outputs": [
    {
     "name": "stderr",
     "output_type": "stream",
     "text": [
      "INFO - Validation Result: success\n",
      "\n"
     ]
    }
   ],
   "source": [
    "factory = Factory(DATA_SOURCE)\n",
    "patterns = factory.create_patterns()"
   ]
  },
  {
   "cell_type": "code",
   "execution_count": 5,
   "metadata": {},
   "outputs": [],
   "source": [
    "def evaluate_wfc(\n",
    "    sizes: np.ndarray, target_successes: int, judge: Judge, name: str\n",
    ") -> pd.DataFrame:\n",
    "    results = []\n",
    "\n",
    "    for size in tqdm(sizes):\n",
    "        rect = Rect(width=size, height=size)\n",
    "        grid = Grid(rect=rect, patterns=patterns)\n",
    "        wfc = WFC(grid=grid, judge=judge)\n",
    "\n",
    "        successes = 0\n",
    "        tries = 0\n",
    "\n",
    "        while successes < target_successes:\n",
    "            is_succeeded = False\n",
    "\n",
    "            while not is_succeeded:\n",
    "                tries += 1\n",
    "                is_succeeded = wfc.generate()\n",
    "\n",
    "            successes += 1\n",
    "\n",
    "        mean_tries = tries / target_successes\n",
    "        results.append({\"model\": name, \"size\": size**2, \"mean_tries\": mean_tries})\n",
    "\n",
    "    return pd.DataFrame(results)"
   ]
  },
  {
   "cell_type": "code",
   "execution_count": 6,
   "metadata": {},
   "outputs": [],
   "source": [
    "sizes = np.arange(2, 11)\n",
    "target_successes = 100"
   ]
  },
  {
   "cell_type": "code",
   "execution_count": 7,
   "metadata": {},
   "outputs": [
    {
     "name": "stderr",
     "output_type": "stream",
     "text": [
      "100%|██████████| 9/9 [00:22<00:00,  2.50s/it]\n"
     ]
    },
    {
     "data": {
      "text/html": [
       "<div>\n",
       "<style scoped>\n",
       "    .dataframe tbody tr th:only-of-type {\n",
       "        vertical-align: middle;\n",
       "    }\n",
       "\n",
       "    .dataframe tbody tr th {\n",
       "        vertical-align: top;\n",
       "    }\n",
       "\n",
       "    .dataframe thead th {\n",
       "        text-align: right;\n",
       "    }\n",
       "</style>\n",
       "<table border=\"1\" class=\"dataframe\">\n",
       "  <thead>\n",
       "    <tr style=\"text-align: right;\">\n",
       "      <th></th>\n",
       "      <th>model</th>\n",
       "      <th>size</th>\n",
       "      <th>mean_tries</th>\n",
       "    </tr>\n",
       "  </thead>\n",
       "  <tbody>\n",
       "    <tr>\n",
       "      <th>0</th>\n",
       "      <td>WFC</td>\n",
       "      <td>4</td>\n",
       "      <td>1.01</td>\n",
       "    </tr>\n",
       "    <tr>\n",
       "      <th>1</th>\n",
       "      <td>WFC</td>\n",
       "      <td>9</td>\n",
       "      <td>1.01</td>\n",
       "    </tr>\n",
       "    <tr>\n",
       "      <th>2</th>\n",
       "      <td>WFC</td>\n",
       "      <td>16</td>\n",
       "      <td>1.25</td>\n",
       "    </tr>\n",
       "    <tr>\n",
       "      <th>3</th>\n",
       "      <td>WFC</td>\n",
       "      <td>25</td>\n",
       "      <td>1.51</td>\n",
       "    </tr>\n",
       "    <tr>\n",
       "      <th>4</th>\n",
       "      <td>WFC</td>\n",
       "      <td>36</td>\n",
       "      <td>1.91</td>\n",
       "    </tr>\n",
       "  </tbody>\n",
       "</table>\n",
       "</div>"
      ],
      "text/plain": [
       "  model  size  mean_tries\n",
       "0   WFC     4        1.01\n",
       "1   WFC     9        1.01\n",
       "2   WFC    16        1.25\n",
       "3   WFC    25        1.51\n",
       "4   WFC    36        1.91"
      ]
     },
     "execution_count": 7,
     "metadata": {},
     "output_type": "execute_result"
    }
   ],
   "source": [
    "random_judge = RandomJudge()\n",
    "\n",
    "wfc_df = evaluate_wfc(sizes, target_successes, random_judge, \"WFC\")\n",
    "\n",
    "wfc_df.head(5)"
   ]
  },
  {
   "cell_type": "code",
   "execution_count": 8,
   "metadata": {},
   "outputs": [
    {
     "name": "stderr",
     "output_type": "stream",
     "text": [
      "100%|██████████| 9/9 [00:09<00:00,  1.04s/it]\n"
     ]
    },
    {
     "data": {
      "text/html": [
       "<div>\n",
       "<style scoped>\n",
       "    .dataframe tbody tr th:only-of-type {\n",
       "        vertical-align: middle;\n",
       "    }\n",
       "\n",
       "    .dataframe tbody tr th {\n",
       "        vertical-align: top;\n",
       "    }\n",
       "\n",
       "    .dataframe thead th {\n",
       "        text-align: right;\n",
       "    }\n",
       "</style>\n",
       "<table border=\"1\" class=\"dataframe\">\n",
       "  <thead>\n",
       "    <tr style=\"text-align: right;\">\n",
       "      <th></th>\n",
       "      <th>model</th>\n",
       "      <th>size</th>\n",
       "      <th>mean_tries</th>\n",
       "    </tr>\n",
       "  </thead>\n",
       "  <tbody>\n",
       "    <tr>\n",
       "      <th>0</th>\n",
       "      <td>WFCWMC</td>\n",
       "      <td>4</td>\n",
       "      <td>1.00</td>\n",
       "    </tr>\n",
       "    <tr>\n",
       "      <th>1</th>\n",
       "      <td>WFCWMC</td>\n",
       "      <td>9</td>\n",
       "      <td>1.02</td>\n",
       "    </tr>\n",
       "    <tr>\n",
       "      <th>2</th>\n",
       "      <td>WFCWMC</td>\n",
       "      <td>16</td>\n",
       "      <td>1.06</td>\n",
       "    </tr>\n",
       "    <tr>\n",
       "      <th>3</th>\n",
       "      <td>WFCWMC</td>\n",
       "      <td>25</td>\n",
       "      <td>1.08</td>\n",
       "    </tr>\n",
       "    <tr>\n",
       "      <th>4</th>\n",
       "      <td>WFCWMC</td>\n",
       "      <td>36</td>\n",
       "      <td>1.16</td>\n",
       "    </tr>\n",
       "  </tbody>\n",
       "</table>\n",
       "</div>"
      ],
      "text/plain": [
       "    model  size  mean_tries\n",
       "0  WFCWMC     4        1.00\n",
       "1  WFCWMC     9        1.02\n",
       "2  WFCWMC    16        1.06\n",
       "3  WFCWMC    25        1.08\n",
       "4  WFCWMC    36        1.16"
      ]
     },
     "execution_count": 8,
     "metadata": {},
     "output_type": "execute_result"
    }
   ],
   "source": [
    "mc_judge = ModelMC(view=Rect(3, 3))\n",
    "mc_judge.load_weights(\"data/weights/wfcwmc/mmc_1000\")\n",
    "\n",
    "wfcwmc_df = evaluate_wfc(sizes, target_successes, mc_judge, \"WFCWMC\")\n",
    "\n",
    "wfcwmc_df.head(5)"
   ]
  },
  {
   "cell_type": "code",
   "execution_count": 9,
   "metadata": {},
   "outputs": [],
   "source": [
    "evaluation_df = pd.concat([wfc_df, wfcwmc_df]).reset_index(drop=True)"
   ]
  },
  {
   "cell_type": "code",
   "execution_count": 10,
   "metadata": {},
   "outputs": [
    {
     "data": {
      "image/png": "[encoded data removed]",
      "text/plain": [
       "<Figure size 800x500 with 1 Axes>"
      ]
     },
     "metadata": {},
     "output_type": "display_data"
    }
   ],
   "source": [
    "plt.figure(figsize=(8, 5))\n",
    "sns.lineplot(data=evaluation_df, x=\"size\", y=\"mean_tries\", hue=\"model\", marker=\"o\")\n",
    "plt.savefig(\"content/performance.png\", bbox_inches=\"tight\")"
   ]
  }
 ],
 "metadata": {
  "kernelspec": {
   "display_name": "Python 3",
   "language": "python",
   "name": "python3"
  },
  "language_info": {
   "codemirror_mode": {
    "name": "ipython",
    "version": 3
   },
   "file_extension": ".py",
   "mimetype": "text/x-python",
   "name": "python",
   "nbconvert_exporter": "python",
   "pygments_lexer": "ipython3",
   "version": "3.12.0"
  }
 },
 "nbformat": 4,
 "nbformat_minor": 2
}
