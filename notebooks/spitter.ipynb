{
 "cells": [
  {
   "cell_type": "code",
   "execution_count": 1,
   "metadata": {},
   "outputs": [
    {
     "name": "stdout",
     "output_type": "stream",
     "text": [
      "Rectangles:\n",
      "Top-left: (1, 4), Bottom-right: (4, 4)\n",
      "Top-left: (0, 1), Bottom-right: (0, 3)\n",
      "Top-left: (3, 1), Bottom-right: (4, 1)\n",
      "Top-left: (4, 2), Bottom-right: (4, 2)\n"
     ]
    }
   ],
   "source": [
    "from project.utils.rectangulator import Rectangulator\n",
    "import numpy as np\n",
    "\n",
    "\n",
    "binary_array = np.array([\n",
    "    [0, 1, 1, 1, 0],\n",
    "    [0, 0, 0, 0, 1],\n",
    "    [0, 0, 0, 0, 1],\n",
    "    [0, 1, 0, 0, 1],\n",
    "    [0, 1, 1, 0, 1]\n",
    "])\n",
    "\n",
    "splitter = Rectangulator()\n",
    "rectangles = splitter.split_into_minimum_rectangles(binary_array)\n",
    "\n",
    "print(\"Rectangles:\")\n",
    "for rect in rectangles:\n",
    "    print(f\"Top-left: ({rect.x1}, {rect.y1}), Bottom-right: ({rect.x2}, {rect.y2})\")\n"
   ]
  },
  {
   "cell_type": "code",
   "execution_count": 2,
   "metadata": {},
   "outputs": [
    {
     "data": {
      "text/plain": [
       "Graph(vertices={0: Vertex(uid=0, rect=Rect(x1=1, y1=4, x2=4, y2=4), neighbors=set()), 1: Vertex(uid=1, rect=Rect(x1=0, y1=1, x2=0, y2=3), neighbors=set()), 2: Vertex(uid=2, rect=Rect(x1=3, y1=1, x2=4, y2=1), neighbors={3}), 3: Vertex(uid=3, rect=Rect(x1=4, y1=2, x2=4, y2=2), neighbors={2})})"
      ]
     },
     "execution_count": 2,
     "metadata": {},
     "output_type": "execute_result"
    }
   ],
   "source": [
    "from project.utils.graph_builder import GraphBuilder\n",
    "\n",
    "\n",
    "builder = GraphBuilder()\n",
    "builder.build_graph(rectangles)"
   ]
  },
  {
   "cell_type": "code",
   "execution_count": 3,
   "metadata": {},
   "outputs": [
    {
     "name": "stderr",
     "output_type": "stream",
     "text": [
      "INFO - Validation Result: success\n",
      "\n"
     ]
    }
   ],
   "source": [
    "from project.config import DATA_SOURCE\n",
    "from project.wfc.repository import repository\n",
    "from project.wfc.factory import Factory\n",
    "from project.wfc.grid import Grid\n",
    "\n",
    "factory = Factory(DATA_SOURCE)\n",
    "patterns = factory.create_patterns()\n",
    "grid = Grid(patterns=patterns)\n",
    "grid.deserialize(repository, \"grids/test/0a02cb85-c3e9-441c-8ade-089216f6dba1.dat\")"
   ]
  },
  {
   "cell_type": "code",
   "execution_count": 4,
   "metadata": {},
   "outputs": [
    {
     "data": {
      "text/plain": [
       "array([[0, 0, 1, 1, 1, 1, 1, 0, 0, 1],\n",
       "       [0, 1, 1, 1, 1, 1, 1, 0, 0, 1],\n",
       "       [0, 1, 1, 1, 1, 1, 1, 1, 1, 1],\n",
       "       [0, 1, 1, 1, 1, 1, 1, 1, 1, 1],\n",
       "       [0, 1, 1, 1, 1, 1, 1, 1, 1, 0],\n",
       "       [0, 0, 0, 1, 1, 1, 1, 1, 1, 0],\n",
       "       [0, 0, 0, 1, 0, 0, 1, 1, 1, 0],\n",
       "       [0, 0, 0, 0, 0, 0, 1, 1, 1, 1],\n",
       "       [1, 0, 0, 0, 0, 0, 1, 1, 1, 0],\n",
       "       [1, 0, 0, 0, 0, 0, 1, 1, 1, 0]])"
      ]
     },
     "execution_count": 4,
     "metadata": {},
     "output_type": "execute_result"
    }
   ],
   "source": [
    "height_map = grid.get_patterns_property(grid.grid, lambda pattern: pattern.is_walkable)\n",
    "height_map"
   ]
  },
  {
   "cell_type": "code",
   "execution_count": 5,
   "metadata": {},
   "outputs": [
    {
     "data": {
      "text/plain": [
       "[Rect(x1=0, y1=2, x2=4, y2=6),\n",
       " Rect(x1=2, y1=7, x2=9, y2=8),\n",
       " Rect(x1=5, y1=6, x2=9, y2=6),\n",
       " Rect(x1=0, y1=9, x2=3, y2=9),\n",
       " Rect(x1=1, y1=1, x2=4, y2=1),\n",
       " Rect(x1=5, y1=3, x2=5, y2=5),\n",
       " Rect(x1=8, y1=0, x2=9, y2=0),\n",
       " Rect(x1=6, y1=3, x2=6, y2=3),\n",
       " Rect(x1=7, y1=9, x2=7, y2=9)]"
      ]
     },
     "execution_count": 5,
     "metadata": {},
     "output_type": "execute_result"
    }
   ],
   "source": [
    "rectangles = splitter.split_into_minimum_rectangles(height_map)\n",
    "rectangles"
   ]
  },
  {
   "cell_type": "code",
   "execution_count": 6,
   "metadata": {},
   "outputs": [],
   "source": [
    "graph = builder.build_graph(rectangles)"
   ]
  },
  {
   "cell_type": "code",
   "execution_count": 7,
   "metadata": {},
   "outputs": [],
   "source": [
    "graph.to_json(\"g.json\")"
   ]
  }
 ],
 "metadata": {
  "kernelspec": {
   "display_name": "Python 3",
   "language": "python",
   "name": "python3"
  },
  "language_info": {
   "codemirror_mode": {
    "name": "ipython",
    "version": 3
   },
   "file_extension": ".py",
   "mimetype": "text/x-python",
   "name": "python",
   "nbconvert_exporter": "python",
   "pygments_lexer": "ipython3",
   "version": "3.12.0"
  }
 },
 "nbformat": 4,
 "nbformat_minor": 2
}
