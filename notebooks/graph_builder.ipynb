{
 "cells": [
  {
   "cell_type": "code",
   "execution_count": 1,
   "metadata": {},
   "outputs": [],
   "source": [
    "from setup_env import setup_environment\n",
    "\n",
    "setup_environment()"
   ]
  },
  {
   "cell_type": "code",
   "execution_count": 2,
   "metadata": {},
   "outputs": [
    {
     "name": "stderr",
     "output_type": "stream",
     "text": [
      "INFO - Validation Result: success\n",
      "\n"
     ]
    }
   ],
   "source": [
    "import os\n",
    "from project.config import DATA_SOURCE\n",
    "from project.wfc.repository import repository\n",
    "from project.wfc.factory import Factory\n",
    "from project.wfc.grid import Grid\n",
    "from project.utils.rectangulator import Rectangulator\n",
    "from project.utils.graph_builder import GraphBuilder\n",
    "from tqdm import tqdm\n",
    "\n",
    "\n",
    "factory = Factory(DATA_SOURCE)\n",
    "patterns = factory.create_patterns()\n",
    "grid = Grid(patterns=patterns)\n",
    "splitter = Rectangulator()\n",
    "builder = GraphBuilder()"
   ]
  },
  {
   "cell_type": "code",
   "execution_count": 3,
   "metadata": {},
   "outputs": [],
   "source": [
    "grid.deserialize(repository, \"data/grids/634e446a-7484-49c7-a85c-7900470a673d.dat\")\n",
    "height_map = grid.get_patterns_property(grid.grid, lambda pattern: pattern.is_walkable)\n",
    "rectangles = splitter.split_into_minimum_rectangles(height_map)\n",
    "graph = builder.build_graph(rectangles)\n",
    "graph.to_json(\"data/graphs/634e446a-7484-49c7-a85c-7900470a673d.json\")"
   ]
  },
  {
   "cell_type": "code",
   "execution_count": 3,
   "metadata": {},
   "outputs": [
    {
     "name": "stderr",
     "output_type": "stream",
     "text": [
      "100%|██████████| 1000/1000 [00:04<00:00, 247.45it/s]\n"
     ]
    }
   ],
   "source": [
    "input_dir = \"data/grids/wfcwmc\"\n",
    "output_dir = \"data/graphs/wfcwmc\"\n",
    "\n",
    "for file_name in tqdm(os.listdir(input_dir)):\n",
    "    if file_name.endswith(\".dat\"):\n",
    "        file_base = os.path.splitext(file_name)[0]\n",
    "        grid.deserialize(repository, f\"{input_dir}/{file_name}\")\n",
    "        height_map = grid.get_patterns_property(\n",
    "            grid.grid, lambda pattern: pattern.is_walkable\n",
    "        )\n",
    "        rectangles = splitter.split_into_minimum_rectangles(height_map)\n",
    "        graph = builder.build_graph(rectangles)\n",
    "        graph.to_json(f\"{output_dir}/{file_base}.json\")"
   ]
  }
 ],
 "metadata": {
  "kernelspec": {
   "display_name": "Python 3",
   "language": "python",
   "name": "python3"
  },
  "language_info": {
   "codemirror_mode": {
    "name": "ipython",
    "version": 3
   },
   "file_extension": ".py",
   "mimetype": "text/x-python",
   "name": "python",
   "nbconvert_exporter": "python",
   "pygments_lexer": "ipython3",
   "version": "3.12.0"
  }
 },
 "nbformat": 4,
 "nbformat_minor": 2
}
