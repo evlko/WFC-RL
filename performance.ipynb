{
 "cells": [
  {
   "cell_type": "code",
   "execution_count": 1,
   "metadata": {},
   "outputs": [],
   "source": [
    "import numpy as np\n",
    "\n",
    "from project.wfc.factory import Factory\n",
    "from project.wfc.grid import Grid, Rect\n",
    "from project.config import DATA_SOURCE\n",
    "from project.wfc.wfc import WFC\n",
    "from project.utils.perfomance_logger import PerformanceLogger\n",
    "from project.wfc.judge import RandomJudge"
   ]
  },
  {
   "cell_type": "code",
   "execution_count": 2,
   "metadata": {},
   "outputs": [
    {
     "name": "stderr",
     "output_type": "stream",
     "text": [
      "INFO - Validation Result: success\n",
      "\n"
     ]
    },
    {
     "ename": "TypeError",
     "evalue": "unhashable type: 'NeighborRuleSet'",
     "output_type": "error",
     "traceback": [
      "\u001b[0;31m---------------------------------------------------------------------------\u001b[0m",
      "\u001b[0;31mTypeError\u001b[0m                                 Traceback (most recent call last)",
      "Cell \u001b[0;32mIn[2], line 24\u001b[0m\n\u001b[1;32m     22\u001b[0m \u001b[38;5;28;01mwhile\u001b[39;00m is_succeeded \u001b[38;5;241m!=\u001b[39m \u001b[38;5;28;01mTrue\u001b[39;00m:\n\u001b[1;32m     23\u001b[0m     local_tries \u001b[38;5;241m+\u001b[39m\u001b[38;5;241m=\u001b[39m \u001b[38;5;241m1\u001b[39m\n\u001b[0;32m---> 24\u001b[0m     is_succeeded \u001b[38;5;241m=\u001b[39m \u001b[43mwfc\u001b[49m\u001b[38;5;241;43m.\u001b[39;49m\u001b[43mgenerate\u001b[49m\u001b[43m(\u001b[49m\u001b[43m)\u001b[49m\n\u001b[1;32m     26\u001b[0m succesess \u001b[38;5;241m+\u001b[39m\u001b[38;5;241m=\u001b[39m \u001b[38;5;241m1\u001b[39m\n\u001b[1;32m     27\u001b[0m tries\u001b[38;5;241m.\u001b[39mappend(local_tries)\n",
      "File \u001b[0;32m~/Documents/GitHub/WFC-RI/project/wfc/wfc.py:77\u001b[0m, in \u001b[0;36mWFC.generate\u001b[0;34m(self)\u001b[0m\n\u001b[1;32m     75\u001b[0m \u001b[38;5;28mself\u001b[39m\u001b[38;5;241m.\u001b[39m_initialize()\n\u001b[1;32m     76\u001b[0m \u001b[38;5;28;01mwhile\u001b[39;00m \u001b[38;5;129;01mnot\u001b[39;00m \u001b[38;5;28mself\u001b[39m\u001b[38;5;241m.\u001b[39mis_complete():\n\u001b[0;32m---> 77\u001b[0m     \u001b[38;5;28;01mif\u001b[39;00m \u001b[38;5;129;01mnot\u001b[39;00m \u001b[38;5;28;43mself\u001b[39;49m\u001b[38;5;241;43m.\u001b[39;49m\u001b[43mstep\u001b[49m\u001b[43m(\u001b[49m\u001b[43m)\u001b[49m\u001b[38;5;241m.\u001b[39msuccess:\n\u001b[1;32m     78\u001b[0m         \u001b[38;5;28;01mreturn\u001b[39;00m \u001b[38;5;28;01mFalse\u001b[39;00m\n\u001b[1;32m     79\u001b[0m \u001b[38;5;28;01mreturn\u001b[39;00m \u001b[38;5;28;01mTrue\u001b[39;00m\n",
      "File \u001b[0;32m~/Documents/GitHub/WFC-RI/project/wfc/wfc.py:51\u001b[0m, in \u001b[0;36mWFC.step\u001b[0;34m(self, early_stopping)\u001b[0m\n\u001b[1;32m     48\u001b[0m     \u001b[38;5;28;01mreturn\u001b[39;00m result\n\u001b[1;32m     50\u001b[0m \u001b[38;5;66;03m# find possible patterns and fail if None\u001b[39;00m\n\u001b[0;32m---> 51\u001b[0m possible_patterns \u001b[38;5;241m=\u001b[39m \u001b[38;5;28;43mself\u001b[39;49m\u001b[38;5;241;43m.\u001b[39;49m\u001b[43mgrid\u001b[49m\u001b[38;5;241;43m.\u001b[39;49m\u001b[43mget_valid_patterns\u001b[49m\u001b[43m(\u001b[49m\u001b[43mp\u001b[49m\u001b[38;5;241;43m=\u001b[39;49m\u001b[43mpoint\u001b[49m\u001b[43m)\u001b[49m\n\u001b[1;32m     52\u001b[0m \u001b[38;5;28;01mif\u001b[39;00m \u001b[38;5;129;01mnot\u001b[39;00m possible_patterns \u001b[38;5;129;01mand\u001b[39;00m early_stopping:\n\u001b[1;32m     53\u001b[0m     result\u001b[38;5;241m.\u001b[39mfail_reason \u001b[38;5;241m=\u001b[39m FailReason\u001b[38;5;241m.\u001b[39mZERO_CHOICE\n",
      "File \u001b[0;32m~/Documents/GitHub/WFC-RI/project/wfc/grid.py:90\u001b[0m, in \u001b[0;36mGrid.get_valid_patterns\u001b[0;34m(self, p)\u001b[0m\n\u001b[1;32m     88\u001b[0m \u001b[38;5;28;01mdef\u001b[39;00m \u001b[38;5;21mget_valid_patterns\u001b[39m(\u001b[38;5;28mself\u001b[39m, p: Point) \u001b[38;5;241m-\u001b[39m\u001b[38;5;241m>\u001b[39m List[MetaPattern]:\n\u001b[1;32m     89\u001b[0m \u001b[38;5;250m    \u001b[39m\u001b[38;5;124;03m\"\"\"Get all valid patterns for the cell (x, y) based on neighbors' constraints.\"\"\"\u001b[39;00m\n\u001b[0;32m---> 90\u001b[0m     possible_patterns \u001b[38;5;241m=\u001b[39m \u001b[38;5;28;43mset\u001b[39;49m\u001b[43m(\u001b[49m\u001b[38;5;28;43mself\u001b[39;49m\u001b[38;5;241;43m.\u001b[39;49m\u001b[43mpatterns\u001b[49m\u001b[43m)\u001b[49m\n\u001b[1;32m     92\u001b[0m     \u001b[38;5;28;01mfor\u001b[39;00m nx, ny, direction \u001b[38;5;129;01min\u001b[39;00m \u001b[38;5;28mself\u001b[39m\u001b[38;5;241m.\u001b[39mget_neighbors(p):\n\u001b[1;32m     93\u001b[0m         neighbor_pattern \u001b[38;5;241m=\u001b[39m \u001b[38;5;28mself\u001b[39m\u001b[38;5;241m.\u001b[39mgrid[nx, ny]\n",
      "File \u001b[0;32m<string>:3\u001b[0m, in \u001b[0;36m__hash__\u001b[0;34m(self)\u001b[0m\n",
      "\u001b[0;31mTypeError\u001b[0m: unhashable type: 'NeighborRuleSet'"
     ]
    }
   ],
   "source": [
    "sizes = np.arange(2, 16)\n",
    "target_successes = 1\n",
    "logger = PerformanceLogger()\n",
    "\n",
    "factory = Factory(DATA_SOURCE)\n",
    "\n",
    "patterns = factory.create_patterns()\n",
    "\n",
    "judge = RandomJudge()\n",
    "\n",
    "for size in sizes:\n",
    "    rect = Rect(width=size, height=size)\n",
    "    grid = Grid(rect=rect, patterns=patterns)\n",
    "    wfc = WFC(grid=grid, judge=judge)\n",
    "\n",
    "    succesess = 0\n",
    "    tries = []\n",
    "    while succesess < target_successes:\n",
    "        is_succeeded = False\n",
    "        local_tries = 0\n",
    "\n",
    "        while is_succeeded != True:\n",
    "            local_tries += 1\n",
    "            is_succeeded = wfc.generate()\n",
    "        \n",
    "        succesess += 1\n",
    "        tries.append(local_tries)\n",
    "    \n",
    "    median_tries = np.median(np.array(tries))\n",
    "    logger.log(size=size**2, tries=median_tries)\n",
    "\n",
    "logger.draw_log()"
   ]
  }
 ],
 "metadata": {
  "kernelspec": {
   "display_name": "Python 3",
   "language": "python",
   "name": "python3"
  },
  "language_info": {
   "codemirror_mode": {
    "name": "ipython",
    "version": 3
   },
   "file_extension": ".py",
   "mimetype": "text/x-python",
   "name": "python",
   "nbconvert_exporter": "python",
   "pygments_lexer": "ipython3",
   "version": "3.12.0"
  }
 },
 "nbformat": 4,
 "nbformat_minor": 2
}
