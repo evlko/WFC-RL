{
 "cells": [
  {
   "cell_type": "code",
   "execution_count": 4,
   "metadata": {},
   "outputs": [],
   "source": [
    "import numpy as np\n",
    "\n",
    "from project.wfc.factory import Factory\n",
    "from project.wfc.grid import Grid\n",
    "#from project.visualization.grid_renderer import grid_renderer\n",
    "from project.config import DATA_SOURCE\n",
    "from project.wfc.repository import repository"
   ]
  },
  {
   "cell_type": "code",
   "execution_count": 23,
   "metadata": {},
   "outputs": [],
   "source": [
    "factory = Factory(DATA_SOURCE)\n",
    "\n",
    "factory.create_patterns_and_rules()\n",
    "\n",
    "patterns = repository.get_all_patterns()"
   ]
  },
  {
   "cell_type": "code",
   "execution_count": 36,
   "metadata": {},
   "outputs": [
    {
     "name": "stdout",
     "output_type": "stream",
     "text": [
      "Generation succeeded!\n",
      "[[ 4 12]\n",
      " [ 6 12]]\n"
     ]
    }
   ],
   "source": [
    "grid = Grid(width=2, height=2, patterns=patterns)\n",
    "\n",
    "if grid.generate():\n",
    "    print(np.vectorize(lambda p: p.id if p else None)(grid.grid))"
   ]
  },
  {
   "cell_type": "code",
   "execution_count": 37,
   "metadata": {},
   "outputs": [
    {
     "data": {
      "image/png": "[encoded data removed]",
      "text/plain": [
       "<Figure size 200x200 with 4 Axes>"
      ]
     },
     "metadata": {},
     "output_type": "display_data"
    }
   ],
   "source": [
    "grid_renderer.draw(grid=grid, show_borders=True)"
   ]
  }
 ],
 "metadata": {
  "kernelspec": {
   "display_name": "Python 3",
   "language": "python",
   "name": "python3"
  },
  "language_info": {
   "codemirror_mode": {
    "name": "ipython",
    "version": 3
   },
   "file_extension": ".py",
   "mimetype": "text/x-python",
   "name": "python",
   "nbconvert_exporter": "python",
   "pygments_lexer": "ipython3",
   "version": "3.12.0"
  }
 },
 "nbformat": 4,
 "nbformat_minor": 2
}
